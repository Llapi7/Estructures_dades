{
 "cells": [
  {
   "cell_type": "markdown",
   "id": "41fcfad7",
   "metadata": {},
   "source": [
    "Ex 1\n",
    "\n",
    "Crea una llista que agrupi els mesos de l’any en trimestres (1T: gener, febrer i març; 2T: abril, maig, juny...), és a dir, una llista amb 4 llistes dins."
   ]
  },
  {
   "cell_type": "code",
   "execution_count": 98,
   "id": "06a942a4",
   "metadata": {},
   "outputs": [],
   "source": [
    "\n",
    "Mesos = [[\"1T\"], [\"Gener\", \"Febrer\", \"Març\"]],[[\"2T\"], [\"Abril\", \"Maig\", \"Juny\"]],[[\"3T\"], [\"Juliol\", \"Agost\", \"Setembre\"]],[[\"4T\"],[\"Octubre\", \"Novembre\", \"Desembre\"]\n",
    "                                                                                                                               ]\n"
   ]
  },
  {
   "cell_type": "markdown",
   "id": "252fa53c",
   "metadata": {},
   "source": [
    " Exercici 2 \n",
    "Crea un codi que et permeti accedir a:\n"
   ]
  },
  {
   "cell_type": "code",
   "execution_count": 201,
   "id": "d7a2fc4e",
   "metadata": {},
   "outputs": [
    {
     "name": "stdout",
     "output_type": "stream",
     "text": [
      "Febrer\n",
      "['Gener', 'Febrer', 'Març']\n",
      "Setembre\n",
      "Octubre\n"
     ]
    }
   ],
   "source": [
    "#El segon mes del primer trimestre.\n",
    "#Els mesos del primer trimestre.\n",
    "#Setembre Octubre\n",
    "\n",
    "\n",
    "print (Mesos[0][1][1])\n",
    "print (Mesos[0][1])\n",
    "print(Mesos[2][1][2]) #Setembre\n",
    "print(Mesos[3][1][0]) # Octubre"
   ]
  },
  {
   "cell_type": "code",
   "execution_count": 203,
   "id": "4346f46f",
   "metadata": {},
   "outputs": [
    {
     "name": "stdout",
     "output_type": "stream",
     "text": [
      "El nº 3 sale 1 veces\n",
      "El nº 4 sale 2 veces\n"
     ]
    }
   ],
   "source": [
    "#Exercici 3\n",
    "#Crea una llista amb nombres desordenats i respon a les següents preguntes:\n",
    "# Quantes vegades surt el num.3 i el 4?\n",
    "\n",
    "\n",
    "import numpy as np\n",
    "\n",
    "\n",
    "Nombres = [1,2,4,2,3,4,5,8,2,2,1]\n",
    "\n",
    "\n",
    "x = Nombres.count(3)\n",
    "y = Nombres.count(4)\n",
    " \n",
    "\n",
    "print(\"El nº 3 sale \" +str(x)+ \" veces\")  # Cuantas veces sale el nº 3 ?\n",
    "print(\"El nº 4 sale \" +str(y)+ \" veces\")  # Cuantas veces sale el nº 4 ?"
   ]
  },
  {
   "cell_type": "code",
   "execution_count": 204,
   "id": "b546526e",
   "metadata": {},
   "outputs": [
    {
     "name": "stdout",
     "output_type": "stream",
     "text": [
      "8\n"
     ]
    }
   ],
   "source": [
    "# Quin és el número més gran?\n",
    "\n",
    "S = Nombres.sort(reverse = True)\n",
    "print (Nombres[0])\n"
   ]
  },
  {
   "cell_type": "code",
   "execution_count": 205,
   "id": "765d9c88",
   "metadata": {},
   "outputs": [
    {
     "name": "stdout",
     "output_type": "stream",
     "text": [
      "[2, 1, 1]\n"
     ]
    }
   ],
   "source": [
    "# Quins són els 3 números més petits?\n",
    "\n",
    "\n",
    "print (Nombres[(len(Nombres)-3):])"
   ]
  },
  {
   "cell_type": "code",
   "execution_count": 206,
   "id": "860e1678",
   "metadata": {},
   "outputs": [
    {
     "data": {
      "text/plain": [
       "7"
      ]
     },
     "execution_count": 206,
     "metadata": {},
     "output_type": "execute_result"
    }
   ],
   "source": [
    "# Quin és el rang ?\n",
    "\n",
    "rang = max(Nombres)- min(Nombres) \n",
    "rang\n"
   ]
  },
  {
   "cell_type": "markdown",
   "id": "8aab1df1",
   "metadata": {},
   "source": [
    "Ex4 \n",
    "Crea un diccionari de la següent forma i respon a les preguntes:\n",
    "\n",
    "compra = { \"Pomes\" : {\"Qty\": 5, \"€\": 0.42}, \"Peres\" : {\"Qty\": 3, \"€\": 0.66} }"
   ]
  },
  {
   "cell_type": "code",
   "execution_count": 74,
   "id": "09046e38",
   "metadata": {},
   "outputs": [],
   "source": [
    "\n",
    "compra = { \"Pomes\" : {\"Qty\": 5, \"€\": 0.42}, \"Peres\" : {\"Qty\": 3, \"€\": 0.66} }"
   ]
  },
  {
   "cell_type": "code",
   "execution_count": 75,
   "id": "a953b54f",
   "metadata": {},
   "outputs": [
    {
     "name": "stdout",
     "output_type": "stream",
     "text": [
      "{'Pomes': {'Qty': 5, '€': 0.42}, 'Peres': {'Qty': 3, '€': 0.66}, 'Platans': {'Qty': 6, '€': 0.5}}\n"
     ]
    }
   ],
   "source": [
    "# Afegim Platans\n",
    "\n",
    "compra['Platans'] = {\"Qty\" : 6, \"€\" : 0.5}\n",
    "print (compra)"
   ]
  },
  {
   "cell_type": "code",
   "execution_count": 76,
   "id": "19ebb096",
   "metadata": {},
   "outputs": [
    {
     "name": "stdout",
     "output_type": "stream",
     "text": [
      "1.98\n"
     ]
    }
   ],
   "source": [
    "# Quant han costat les Peres ?\n",
    "\n",
    "Total_Peres = (compra[\"Peres\"][\"Qty\"] * compra[\"Peres\"][\"€\"])\n",
    "print (Total_Peres)\n"
   ]
  },
  {
   "cell_type": "code",
   "execution_count": 77,
   "id": "587fa936",
   "metadata": {},
   "outputs": [
    {
     "name": "stdout",
     "output_type": "stream",
     "text": [
      "14\n"
     ]
    }
   ],
   "source": [
    "# Quantes fruites hem comprat\n",
    "\n",
    "Total_fruita = (compra[\"Peres\"][\"Qty\"]+compra[\"Pomes\"][\"Qty\"]+compra[\"Platans\"][\"Qty\"])\n",
    "\n",
    "print (Total_fruita)\n",
    "\n"
   ]
  },
  {
   "cell_type": "code",
   "execution_count": null,
   "id": "f7184090",
   "metadata": {},
   "outputs": [],
   "source": [
    "# La fruita més cara"
   ]
  },
  {
   "cell_type": "code",
   "execution_count": 178,
   "id": "ced70424",
   "metadata": {},
   "outputs": [
    {
     "name": "stdout",
     "output_type": "stream",
     "text": [
      "0.66\n"
     ]
    }
   ],
   "source": [
    "Total_fruita_més_cara = max(compra[\"Peres\"][\"€\"], compra[\"Pomes\"][\"€\"], compra[\"Platans\"][\"€\"])\n",
    "\n",
    "print (Total_fruita_més_cara)"
   ]
  },
  {
   "cell_type": "code",
   "execution_count": null,
   "id": "8b162019",
   "metadata": {},
   "outputs": [],
   "source": []
  }
 ],
 "metadata": {
  "kernelspec": {
   "display_name": "Python 3 (ipykernel)",
   "language": "python",
   "name": "python3"
  },
  "language_info": {
   "codemirror_mode": {
    "name": "ipython",
    "version": 3
   },
   "file_extension": ".py",
   "mimetype": "text/x-python",
   "name": "python",
   "nbconvert_exporter": "python",
   "pygments_lexer": "ipython3",
   "version": "3.10.9"
  }
 },
 "nbformat": 4,
 "nbformat_minor": 5
}
